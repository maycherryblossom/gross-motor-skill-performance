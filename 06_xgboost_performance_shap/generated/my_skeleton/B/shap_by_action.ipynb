{
 "cells": [
  {
   "cell_type": "code",
   "execution_count": 1,
   "metadata": {},
   "outputs": [],
   "source": [
    "import pandas as pd\n",
    "import numpy as np\n",
    "\n",
    "data = pd.read_csv('shap_beeswarm_total_avg_data.csv')"
   ]
  },
  {
   "cell_type": "markdown",
   "metadata": {},
   "source": []
  },
  {
   "cell_type": "code",
   "execution_count": 2,
   "metadata": {},
   "outputs": [],
   "source": [
    "columns = np.array(data['Unnamed: 0'])"
   ]
  },
  {
   "cell_type": "code",
   "execution_count": 3,
   "metadata": {},
   "outputs": [
    {
     "data": {
      "text/plain": [
       "array(['1_1', '1_2', '1_3', '2_1', '2_2', '2_3', '3_1', '3_2', '3_3',\n",
       "       '4_1', '4_2', '4_3'], dtype=object)"
      ]
     },
     "execution_count": 3,
     "metadata": {},
     "output_type": "execute_result"
    }
   ],
   "source": [
    "columns"
   ]
  },
  {
   "cell_type": "code",
   "execution_count": 4,
   "metadata": {},
   "outputs": [
    {
     "data": {
      "text/plain": [
       "array([[0.33771516, 0.03529383, 0.35937791, 0.56870933, 0.03639224,\n",
       "        0.67446095, 0.27149164, 0.0283942 , 0.34774273, 0.23042714,\n",
       "        0.04637258, 0.08557769]])"
      ]
     },
     "execution_count": 4,
     "metadata": {},
     "output_type": "execute_result"
    }
   ],
   "source": [
    "np.array(data['0']).reshape(1, 12)"
   ]
  },
  {
   "cell_type": "code",
   "execution_count": 5,
   "metadata": {},
   "outputs": [],
   "source": [
    "new_data = pd.DataFrame(np.array(data['0']).reshape(1, 12), columns=columns)"
   ]
  },
  {
   "cell_type": "code",
   "execution_count": 7,
   "metadata": {},
   "outputs": [],
   "source": [
    "new_data['act_1'] = (new_data['1_1'] + new_data['1_2'] + new_data['1_3']) \n",
    "new_data['act_2'] = (new_data['2_1'] + new_data['2_2'] + new_data['2_3']) \n",
    "new_data['act_3'] = (new_data['3_1'] + new_data['3_2'] + new_data['3_3']) \n",
    "new_data['act_4'] = (new_data['4_1'] + new_data['4_2'] + new_data['4_3']) "
   ]
  },
  {
   "cell_type": "code",
   "execution_count": 8,
   "metadata": {},
   "outputs": [],
   "source": [
    "final = new_data[['act_1', 'act_2', 'act_3', 'act_4']]"
   ]
  },
  {
   "cell_type": "code",
   "execution_count": 12,
   "metadata": {},
   "outputs": [],
   "source": [
    "values = final.loc[0].tolist()"
   ]
  },
  {
   "cell_type": "code",
   "execution_count": 18,
   "metadata": {},
   "outputs": [
    {
     "data": {
      "image/png": "[encoded data removed]",
      "text/plain": [
       "<Figure size 648x288 with 1 Axes>"
      ]
     },
     "metadata": {
      "needs_background": "light"
     },
     "output_type": "display_data"
    }
   ],
   "source": [
    "import matplotlib.pyplot as plt\n",
    "import seaborn as sns\n",
    "\n",
    "plt.rcParams['font.family'] = 'serif'\n",
    "plt.rcParams['font.serif'] = ['Times New Roman'] + plt.rcParams['font.serif']\n",
    "\n",
    "plt.figure(figsize=(9, 4))\n",
    "sns.barplot(x=values, y=['Climb up the stairs', 'Go down the stairs', 'Throw the ball', 'Stand on one foot'], orient='h', color=sns.xkcd_rgb['neon red'])\n",
    "plt.xlabel('Shap value')\n",
    "for i in range(len(values)):\n",
    "    plt.text(values[i]+0.03, i, f\"+ {values[i]:.2f}\", va='center', ha='left', color=sns.xkcd_rgb['neon red'], fontsize=10)\n",
    "plt.subplots_adjust(left=0.3, right=0.95, top=0.95, bottom=0.1)\n",
    "plt.xlim(0, max(values)*1.2)\n",
    "plt.savefig(\"shap_by_action.png\", dpi=700)\n"
   ]
  },
  {
   "cell_type": "code",
   "execution_count": null,
   "metadata": {},
   "outputs": [],
   "source": []
  }
 ],
 "metadata": {
  "kernelspec": {
   "display_name": "gmskl",
   "language": "python",
   "name": ".venv"
  },
  "language_info": {
   "codemirror_mode": {
    "name": "ipython",
    "version": 3
   },
   "file_extension": ".py",
   "mimetype": "text/x-python",
   "name": "python",
   "nbconvert_exporter": "python",
   "pygments_lexer": "ipython3",
   "version": "3.6.8"
  },
  "orig_nbformat": 4,
  "vscode": {
   "interpreter": {
    "hash": "916dbcbb3f70747c44a77c7bcd40155683ae19c65e1c03b4aa3499c5328201f1"
   }
  }
 },
 "nbformat": 4,
 "nbformat_minor": 2
}
