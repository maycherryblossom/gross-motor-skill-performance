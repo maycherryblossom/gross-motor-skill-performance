{
 "cells": [
  {
   "cell_type": "code",
   "execution_count": 2,
   "metadata": {},
   "outputs": [],
   "source": [
    "import numpy as np\n",
    "import pandas as pd\n",
    "\n",
    "ev = pd.read_csv('gms_eval_v3.csv')\n",
    "ev = ev[['ID', 'action', '1차 평가']]"
   ]
  },
  {
   "cell_type": "code",
   "execution_count": 3,
   "metadata": {},
   "outputs": [
    {
     "data": {
      "text/html": [
       "<div>\n",
       "<style scoped>\n",
       "    .dataframe tbody tr th:only-of-type {\n",
       "        vertical-align: middle;\n",
       "    }\n",
       "\n",
       "    .dataframe tbody tr th {\n",
       "        vertical-align: top;\n",
       "    }\n",
       "\n",
       "    .dataframe thead th {\n",
       "        text-align: right;\n",
       "    }\n",
       "</style>\n",
       "<table border=\"1\" class=\"dataframe\">\n",
       "  <thead>\n",
       "    <tr style=\"text-align: right;\">\n",
       "      <th></th>\n",
       "      <th>ID</th>\n",
       "      <th>action</th>\n",
       "      <th>1차 평가</th>\n",
       "    </tr>\n",
       "  </thead>\n",
       "  <tbody>\n",
       "    <tr>\n",
       "      <th>0</th>\n",
       "      <td>B001</td>\n",
       "      <td>GMS_1_1</td>\n",
       "      <td>3.0</td>\n",
       "    </tr>\n",
       "    <tr>\n",
       "      <th>1</th>\n",
       "      <td>B001</td>\n",
       "      <td>GMS_1_2</td>\n",
       "      <td>3.0</td>\n",
       "    </tr>\n",
       "    <tr>\n",
       "      <th>2</th>\n",
       "      <td>B001</td>\n",
       "      <td>GMS_1_3</td>\n",
       "      <td>3.0</td>\n",
       "    </tr>\n",
       "    <tr>\n",
       "      <th>3</th>\n",
       "      <td>B001</td>\n",
       "      <td>GMS_1_4</td>\n",
       "      <td>3.0</td>\n",
       "    </tr>\n",
       "    <tr>\n",
       "      <th>4</th>\n",
       "      <td>B001</td>\n",
       "      <td>GMS_1_5</td>\n",
       "      <td>3.0</td>\n",
       "    </tr>\n",
       "    <tr>\n",
       "      <th>...</th>\n",
       "      <td>...</td>\n",
       "      <td>...</td>\n",
       "      <td>...</td>\n",
       "    </tr>\n",
       "    <tr>\n",
       "      <th>7625</th>\n",
       "      <td>A054</td>\n",
       "      <td>GMS_4_1</td>\n",
       "      <td>1.0</td>\n",
       "    </tr>\n",
       "    <tr>\n",
       "      <th>7626</th>\n",
       "      <td>A058</td>\n",
       "      <td>GMS_1_1</td>\n",
       "      <td>3.0</td>\n",
       "    </tr>\n",
       "    <tr>\n",
       "      <th>7627</th>\n",
       "      <td>A058</td>\n",
       "      <td>GMS_2_1</td>\n",
       "      <td>0.0</td>\n",
       "    </tr>\n",
       "    <tr>\n",
       "      <th>7628</th>\n",
       "      <td>A058</td>\n",
       "      <td>GMS_3_1</td>\n",
       "      <td>0.0</td>\n",
       "    </tr>\n",
       "    <tr>\n",
       "      <th>7629</th>\n",
       "      <td>A058</td>\n",
       "      <td>GMS_4_1</td>\n",
       "      <td>0.0</td>\n",
       "    </tr>\n",
       "  </tbody>\n",
       "</table>\n",
       "<p>7630 rows × 3 columns</p>\n",
       "</div>"
      ],
      "text/plain": [
       "        ID   action  1차 평가\n",
       "0     B001  GMS_1_1    3.0\n",
       "1     B001  GMS_1_2    3.0\n",
       "2     B001  GMS_1_3    3.0\n",
       "3     B001  GMS_1_4    3.0\n",
       "4     B001  GMS_1_5    3.0\n",
       "...    ...      ...    ...\n",
       "7625  A054  GMS_4_1    1.0\n",
       "7626  A058  GMS_1_1    3.0\n",
       "7627  A058  GMS_2_1    0.0\n",
       "7628  A058  GMS_3_1    0.0\n",
       "7629  A058  GMS_4_1    0.0\n",
       "\n",
       "[7630 rows x 3 columns]"
      ]
     },
     "execution_count": 3,
     "metadata": {},
     "output_type": "execute_result"
    }
   ],
   "source": [
    "ev"
   ]
  },
  {
   "cell_type": "code",
   "execution_count": 4,
   "metadata": {},
   "outputs": [],
   "source": [
    "ev = ev[ev['ID'].str[0] == \"B\"]"
   ]
  },
  {
   "cell_type": "code",
   "execution_count": null,
   "metadata": {},
   "outputs": [],
   "source": []
  },
  {
   "cell_type": "code",
   "execution_count": 5,
   "metadata": {},
   "outputs": [],
   "source": [
    "ev_each = ev[ev['action'].str[4] == \"1\"]\n",
    "ev_each_2 = ev[ev['action'].str[4] == \"2\"]\n",
    "ev_each_3 = ev[ev['action'].str[4] == \"3\"]\n",
    "ev_each_4 = ev[ev['action'].str[4] == \"4\"]"
   ]
  },
  {
   "cell_type": "code",
   "execution_count": 6,
   "metadata": {},
   "outputs": [],
   "source": [
    "ev_bad = ev[(ev['1차 평가'] == 0.0) | (ev['1차 평가'] == 1.0)]\n",
    "ev_good = ev[ev['1차 평가'] == 2.0]\n",
    "ev_perfect = ev[ev['1차 평가'] == 3.0]"
   ]
  },
  {
   "cell_type": "code",
   "execution_count": 7,
   "metadata": {},
   "outputs": [
    {
     "data": {
      "text/plain": [
       "104"
      ]
     },
     "execution_count": 7,
     "metadata": {},
     "output_type": "execute_result"
    }
   ],
   "source": [
    "len(ev_bad['ID'].unique())"
   ]
  },
  {
   "cell_type": "code",
   "execution_count": 8,
   "metadata": {},
   "outputs": [
    {
     "name": "stdout",
     "output_type": "stream",
     "text": [
      "141\n",
      "141\n",
      "140\n",
      "141\n"
     ]
    }
   ],
   "source": [
    "print(len(ev_each['ID'].unique()))\n",
    "print(len(ev_each_2['ID'].unique()))\n",
    "print(len(ev_each_3['ID'].unique()))\n",
    "print(len(ev_each_4['ID'].unique()))"
   ]
  },
  {
   "cell_type": "code",
   "execution_count": 9,
   "metadata": {},
   "outputs": [
    {
     "data": {
      "text/plain": [
       "2502"
      ]
     },
     "execution_count": 9,
     "metadata": {},
     "output_type": "execute_result"
    }
   ],
   "source": [
    "len(ev)"
   ]
  },
  {
   "cell_type": "code",
   "execution_count": 10,
   "metadata": {},
   "outputs": [
    {
     "name": "stdout",
     "output_type": "stream",
     "text": [
      "627\n",
      "624\n",
      "632\n",
      "619\n"
     ]
    }
   ],
   "source": [
    "print(len(ev_each))\n",
    "print(len(ev_each_2))\n",
    "print(len(ev_each_3))\n",
    "print(len(ev_each_4))"
   ]
  },
  {
   "cell_type": "code",
   "execution_count": 11,
   "metadata": {},
   "outputs": [],
   "source": [
    "gender_age_info = pd.read_csv('gender_age_info.csv')"
   ]
  },
  {
   "cell_type": "code",
   "execution_count": 12,
   "metadata": {},
   "outputs": [
    {
     "data": {
      "text/html": [
       "<div>\n",
       "<style scoped>\n",
       "    .dataframe tbody tr th:only-of-type {\n",
       "        vertical-align: middle;\n",
       "    }\n",
       "\n",
       "    .dataframe tbody tr th {\n",
       "        vertical-align: top;\n",
       "    }\n",
       "\n",
       "    .dataframe thead th {\n",
       "        text-align: right;\n",
       "    }\n",
       "</style>\n",
       "<table border=\"1\" class=\"dataframe\">\n",
       "  <thead>\n",
       "    <tr style=\"text-align: right;\">\n",
       "      <th></th>\n",
       "      <th>ID</th>\n",
       "      <th>Age_months</th>\n",
       "      <th>Gender</th>\n",
       "    </tr>\n",
       "  </thead>\n",
       "  <tbody>\n",
       "    <tr>\n",
       "      <th>0</th>\n",
       "      <td>B001</td>\n",
       "      <td>28</td>\n",
       "      <td>여</td>\n",
       "    </tr>\n",
       "    <tr>\n",
       "      <th>1</th>\n",
       "      <td>B006</td>\n",
       "      <td>30</td>\n",
       "      <td>남</td>\n",
       "    </tr>\n",
       "    <tr>\n",
       "      <th>2</th>\n",
       "      <td>B011</td>\n",
       "      <td>32</td>\n",
       "      <td>여</td>\n",
       "    </tr>\n",
       "    <tr>\n",
       "      <th>3</th>\n",
       "      <td>B014</td>\n",
       "      <td>25</td>\n",
       "      <td>여</td>\n",
       "    </tr>\n",
       "    <tr>\n",
       "      <th>4</th>\n",
       "      <td>B015</td>\n",
       "      <td>27</td>\n",
       "      <td>남</td>\n",
       "    </tr>\n",
       "    <tr>\n",
       "      <th>...</th>\n",
       "      <td>...</td>\n",
       "      <td>...</td>\n",
       "      <td>...</td>\n",
       "    </tr>\n",
       "    <tr>\n",
       "      <th>142</th>\n",
       "      <td>B183</td>\n",
       "      <td>28</td>\n",
       "      <td>여</td>\n",
       "    </tr>\n",
       "    <tr>\n",
       "      <th>143</th>\n",
       "      <td>B184</td>\n",
       "      <td>32</td>\n",
       "      <td>남</td>\n",
       "    </tr>\n",
       "    <tr>\n",
       "      <th>144</th>\n",
       "      <td>B185</td>\n",
       "      <td>34</td>\n",
       "      <td>여</td>\n",
       "    </tr>\n",
       "    <tr>\n",
       "      <th>145</th>\n",
       "      <td>B201</td>\n",
       "      <td>20</td>\n",
       "      <td>여</td>\n",
       "    </tr>\n",
       "    <tr>\n",
       "      <th>146</th>\n",
       "      <td>B205</td>\n",
       "      <td>39</td>\n",
       "      <td>남</td>\n",
       "    </tr>\n",
       "  </tbody>\n",
       "</table>\n",
       "<p>147 rows × 3 columns</p>\n",
       "</div>"
      ],
      "text/plain": [
       "       ID  Age_months Gender\n",
       "0    B001          28      여\n",
       "1    B006          30      남\n",
       "2    B011          32      여\n",
       "3    B014          25      여\n",
       "4    B015          27      남\n",
       "..    ...         ...    ...\n",
       "142  B183          28      여\n",
       "143  B184          32      남\n",
       "144  B185          34      여\n",
       "145  B201          20      여\n",
       "146  B205          39      남\n",
       "\n",
       "[147 rows x 3 columns]"
      ]
     },
     "execution_count": 12,
     "metadata": {},
     "output_type": "execute_result"
    }
   ],
   "source": [
    "gender_age_info"
   ]
  },
  {
   "cell_type": "code",
   "execution_count": 13,
   "metadata": {},
   "outputs": [
    {
     "data": {
      "text/plain": [
       "여    75\n",
       "남    72\n",
       "Name: Gender, dtype: int64"
      ]
     },
     "execution_count": 13,
     "metadata": {},
     "output_type": "execute_result"
    }
   ],
   "source": [
    "gender_age_info['Gender'].value_counts()"
   ]
  },
  {
   "cell_type": "code",
   "execution_count": 14,
   "metadata": {},
   "outputs": [
    {
     "name": "stdout",
     "output_type": "stream",
     "text": [
      "29.598639455782312\n",
      "4.325236336793345\n"
     ]
    }
   ],
   "source": [
    "print(gender_age_info['Age_months'].mean())\n",
    "print(gender_age_info['Age_months'].std())"
   ]
  },
  {
   "cell_type": "code",
   "execution_count": 15,
   "metadata": {},
   "outputs": [],
   "source": [
    "ev = pd.merge(ev, gender_age_info, on='ID')"
   ]
  },
  {
   "cell_type": "code",
   "execution_count": 16,
   "metadata": {},
   "outputs": [
    {
     "data": {
      "text/html": [
       "<div>\n",
       "<style scoped>\n",
       "    .dataframe tbody tr th:only-of-type {\n",
       "        vertical-align: middle;\n",
       "    }\n",
       "\n",
       "    .dataframe tbody tr th {\n",
       "        vertical-align: top;\n",
       "    }\n",
       "\n",
       "    .dataframe thead th {\n",
       "        text-align: right;\n",
       "    }\n",
       "</style>\n",
       "<table border=\"1\" class=\"dataframe\">\n",
       "  <thead>\n",
       "    <tr style=\"text-align: right;\">\n",
       "      <th></th>\n",
       "      <th>ID</th>\n",
       "      <th>action</th>\n",
       "      <th>1차 평가</th>\n",
       "      <th>Age_months</th>\n",
       "      <th>Gender</th>\n",
       "    </tr>\n",
       "  </thead>\n",
       "  <tbody>\n",
       "    <tr>\n",
       "      <th>0</th>\n",
       "      <td>B001</td>\n",
       "      <td>GMS_1_1</td>\n",
       "      <td>3.0</td>\n",
       "      <td>28</td>\n",
       "      <td>여</td>\n",
       "    </tr>\n",
       "    <tr>\n",
       "      <th>1</th>\n",
       "      <td>B001</td>\n",
       "      <td>GMS_1_2</td>\n",
       "      <td>3.0</td>\n",
       "      <td>28</td>\n",
       "      <td>여</td>\n",
       "    </tr>\n",
       "    <tr>\n",
       "      <th>2</th>\n",
       "      <td>B001</td>\n",
       "      <td>GMS_1_3</td>\n",
       "      <td>3.0</td>\n",
       "      <td>28</td>\n",
       "      <td>여</td>\n",
       "    </tr>\n",
       "    <tr>\n",
       "      <th>3</th>\n",
       "      <td>B001</td>\n",
       "      <td>GMS_1_4</td>\n",
       "      <td>3.0</td>\n",
       "      <td>28</td>\n",
       "      <td>여</td>\n",
       "    </tr>\n",
       "    <tr>\n",
       "      <th>4</th>\n",
       "      <td>B001</td>\n",
       "      <td>GMS_1_5</td>\n",
       "      <td>3.0</td>\n",
       "      <td>28</td>\n",
       "      <td>여</td>\n",
       "    </tr>\n",
       "    <tr>\n",
       "      <th>...</th>\n",
       "      <td>...</td>\n",
       "      <td>...</td>\n",
       "      <td>...</td>\n",
       "      <td>...</td>\n",
       "      <td>...</td>\n",
       "    </tr>\n",
       "    <tr>\n",
       "      <th>2497</th>\n",
       "      <td>B205</td>\n",
       "      <td>GMS_4_1</td>\n",
       "      <td>3.0</td>\n",
       "      <td>39</td>\n",
       "      <td>남</td>\n",
       "    </tr>\n",
       "    <tr>\n",
       "      <th>2498</th>\n",
       "      <td>B205</td>\n",
       "      <td>GMS_4_2</td>\n",
       "      <td>3.0</td>\n",
       "      <td>39</td>\n",
       "      <td>남</td>\n",
       "    </tr>\n",
       "    <tr>\n",
       "      <th>2499</th>\n",
       "      <td>B205</td>\n",
       "      <td>GMS_4_3</td>\n",
       "      <td>3.0</td>\n",
       "      <td>39</td>\n",
       "      <td>남</td>\n",
       "    </tr>\n",
       "    <tr>\n",
       "      <th>2500</th>\n",
       "      <td>B205</td>\n",
       "      <td>GMS_4_4</td>\n",
       "      <td>3.0</td>\n",
       "      <td>39</td>\n",
       "      <td>남</td>\n",
       "    </tr>\n",
       "    <tr>\n",
       "      <th>2501</th>\n",
       "      <td>B205</td>\n",
       "      <td>GMS_4_5</td>\n",
       "      <td>3.0</td>\n",
       "      <td>39</td>\n",
       "      <td>남</td>\n",
       "    </tr>\n",
       "  </tbody>\n",
       "</table>\n",
       "<p>2502 rows × 5 columns</p>\n",
       "</div>"
      ],
      "text/plain": [
       "        ID   action  1차 평가  Age_months Gender\n",
       "0     B001  GMS_1_1    3.0          28      여\n",
       "1     B001  GMS_1_2    3.0          28      여\n",
       "2     B001  GMS_1_3    3.0          28      여\n",
       "3     B001  GMS_1_4    3.0          28      여\n",
       "4     B001  GMS_1_5    3.0          28      여\n",
       "...    ...      ...    ...         ...    ...\n",
       "2497  B205  GMS_4_1    3.0          39      남\n",
       "2498  B205  GMS_4_2    3.0          39      남\n",
       "2499  B205  GMS_4_3    3.0          39      남\n",
       "2500  B205  GMS_4_4    3.0          39      남\n",
       "2501  B205  GMS_4_5    3.0          39      남\n",
       "\n",
       "[2502 rows x 5 columns]"
      ]
     },
     "execution_count": 16,
     "metadata": {},
     "output_type": "execute_result"
    }
   ],
   "source": [
    "ev"
   ]
  },
  {
   "cell_type": "code",
   "execution_count": 17,
   "metadata": {},
   "outputs": [],
   "source": [
    "ev_each = ev[ev['action'].str[4] == \"1\"]\n",
    "ev_each_2 = ev[ev['action'].str[4] == \"2\"]\n",
    "ev_each_3 = ev[ev['action'].str[4] == \"3\"]\n",
    "ev_each_4 = ev[ev['action'].str[4] == \"4\"]"
   ]
  },
  {
   "cell_type": "code",
   "execution_count": 18,
   "metadata": {},
   "outputs": [
    {
     "name": "stdout",
     "output_type": "stream",
     "text": [
      "1차 평가          2.333333\n",
      "Age_months    29.475177\n",
      "dtype: float64\n",
      "1차 평가          2.212766\n",
      "Age_months    29.475177\n",
      "dtype: float64\n",
      "1차 평가          2.192857\n",
      "Age_months    29.435714\n",
      "dtype: float64\n",
      "1차 평가          1.602837\n",
      "Age_months    29.475177\n",
      "dtype: float64\n"
     ]
    }
   ],
   "source": [
    "print(ev_each.drop_duplicates(subset=\"ID\").mean())\n",
    "print(ev_each_2.drop_duplicates(subset=\"ID\").mean())\n",
    "print(ev_each_3.drop_duplicates(subset=\"ID\").mean())\n",
    "print(ev_each_4.drop_duplicates(subset=\"ID\").mean())"
   ]
  },
  {
   "cell_type": "code",
   "execution_count": 19,
   "metadata": {},
   "outputs": [
    {
     "name": "stdout",
     "output_type": "stream",
     "text": [
      "1차 평가         0.923245\n",
      "Age_months    4.330262\n",
      "dtype: float64\n",
      "1차 평가         0.892897\n",
      "Age_months    4.330262\n",
      "dtype: float64\n",
      "1차 평가         1.009996\n",
      "Age_months    4.320290\n",
      "dtype: float64\n",
      "1차 평가         1.126812\n",
      "Age_months    4.330262\n",
      "dtype: float64\n"
     ]
    }
   ],
   "source": [
    "print(ev_each.drop_duplicates(subset=\"ID\").std())\n",
    "print(ev_each_2.drop_duplicates(subset=\"ID\").std())\n",
    "print(ev_each_3.drop_duplicates(subset=\"ID\").std())\n",
    "print(ev_each_4.drop_duplicates(subset=\"ID\").std())"
   ]
  },
  {
   "cell_type": "code",
   "execution_count": 20,
   "metadata": {},
   "outputs": [
    {
     "name": "stdout",
     "output_type": "stream",
     "text": [
      "1차 평가          2.333333\n",
      "Age_months    29.475177\n",
      "dtype: float64\n",
      "1차 평가          2.212766\n",
      "Age_months    29.475177\n",
      "dtype: float64\n",
      "1차 평가          2.192857\n",
      "Age_months    29.435714\n",
      "dtype: float64\n",
      "1차 평가          1.602837\n",
      "Age_months    29.475177\n",
      "dtype: float64\n"
     ]
    }
   ],
   "source": [
    "print(ev_each.drop_duplicates(subset=\"ID\").mean())\n",
    "print(ev_each_2.drop_duplicates(subset=\"ID\").mean())\n",
    "print(ev_each_3.drop_duplicates(subset=\"ID\").mean())\n",
    "print(ev_each_4.drop_duplicates(subset=\"ID\").mean())"
   ]
  },
  {
   "cell_type": "code",
   "execution_count": 21,
   "metadata": {},
   "outputs": [
    {
     "name": "stdout",
     "output_type": "stream",
     "text": [
      "여    323\n",
      "남    304\n",
      "Name: Gender, dtype: int64\n"
     ]
    }
   ],
   "source": [
    "print(ev_each['Gender'].value_counts())\n"
   ]
  },
  {
   "cell_type": "code",
   "execution_count": 22,
   "metadata": {},
   "outputs": [
    {
     "name": "stdout",
     "output_type": "stream",
     "text": [
      "남    71\n",
      "여    70\n",
      "Name: Gender, dtype: int64\n",
      "남    71\n",
      "여    70\n",
      "Name: Gender, dtype: int64\n",
      "남    71\n",
      "여    69\n",
      "Name: Gender, dtype: int64\n",
      "남    71\n",
      "여    70\n",
      "Name: Gender, dtype: int64\n"
     ]
    }
   ],
   "source": [
    "print(ev_each.drop_duplicates(subset=\"ID\")['Gender'].value_counts())\n",
    "print(ev_each_2.drop_duplicates(subset=\"ID\")['Gender'].value_counts())\n",
    "print(ev_each_3.drop_duplicates(subset=\"ID\")['Gender'].value_counts())\n",
    "print(ev_each_4.drop_duplicates(subset=\"ID\")['Gender'].value_counts())"
   ]
  },
  {
   "cell_type": "code",
   "execution_count": 23,
   "metadata": {},
   "outputs": [
    {
     "data": {
      "text/plain": [
       "0.5071428571428571"
      ]
     },
     "execution_count": 23,
     "metadata": {},
     "output_type": "execute_result"
    }
   ],
   "source": [
    "71.0/140"
   ]
  },
  {
   "cell_type": "code",
   "execution_count": 42,
   "metadata": {},
   "outputs": [],
   "source": [
    "def print_each_count(df):\n",
    "    bad = len(df[(df['1차 평가'] == 1) | (df['1차 평가'] == 0)])\n",
    "    good = len(df[df['1차 평가'] == 2])\n",
    "    perfect = len(df[df['1차 평가'] == 3])\n",
    "    total = bad+good+perfect\n",
    "    badp = bad/total\n",
    "    goodp = good/total\n",
    "    perfectp = perfect/total\n",
    "    print(bad, round(badp, 3))\n",
    "    print(good, round(goodp, 3))\n",
    "    print(perfect, round(perfectp, 3))\n",
    "    return bad, good, perfect"
   ]
  },
  {
   "cell_type": "code",
   "execution_count": 44,
   "metadata": {},
   "outputs": [
    {
     "name": "stdout",
     "output_type": "stream",
     "text": [
      "137 0.219\n",
      "106 0.169\n",
      "384 0.612\n"
     ]
    }
   ],
   "source": [
    "b1, g1, p1 = print_each_count(ev_each)"
   ]
  },
  {
   "cell_type": "code",
   "execution_count": 45,
   "metadata": {},
   "outputs": [
    {
     "name": "stdout",
     "output_type": "stream",
     "text": [
      "144 0.231\n",
      "107 0.172\n",
      "372 0.597\n"
     ]
    }
   ],
   "source": [
    "b2, g2, p2 = print_each_count(ev_each_2)"
   ]
  },
  {
   "cell_type": "code",
   "execution_count": 46,
   "metadata": {},
   "outputs": [
    {
     "name": "stdout",
     "output_type": "stream",
     "text": [
      "95 0.151\n",
      "156 0.247\n",
      "380 0.602\n"
     ]
    }
   ],
   "source": [
    "b3, g3, p3 = print_each_count(ev_each_3)"
   ]
  },
  {
   "cell_type": "code",
   "execution_count": 47,
   "metadata": {},
   "outputs": [
    {
     "name": "stdout",
     "output_type": "stream",
     "text": [
      "222 0.359\n",
      "212 0.342\n",
      "185 0.299\n"
     ]
    }
   ],
   "source": [
    "b4, g4, p4 = print_each_count(ev_each_4)"
   ]
  },
  {
   "cell_type": "code",
   "execution_count": 49,
   "metadata": {},
   "outputs": [
    {
     "name": "stdout",
     "output_type": "stream",
     "text": [
      "598 0.2392\n",
      "581 0.2324\n",
      "1321 0.5284\n"
     ]
    }
   ],
   "source": [
    "total = b1+b2+b3+b4+g1+g2+g3+g4+p1+p2+p3+p4\n",
    "b = b1+b2+b3+b4\n",
    "bp = b/total \n",
    "g = g1+g2+g3+g4\n",
    "gp = g/total\n",
    "p = p1+p2+p3+p4\n",
    "pp = p/total\n",
    "\n",
    "print(b, bp)\n",
    "print(g, gp)\n",
    "print(p, pp)"
   ]
  },
  {
   "cell_type": "markdown",
   "metadata": {},
   "source": []
  },
  {
   "cell_type": "code",
   "execution_count": 10,
   "metadata": {},
   "outputs": [],
   "source": [
    "dev_ev = pd.read_csv('overall_label.csv')"
   ]
  },
  {
   "cell_type": "code",
   "execution_count": 11,
   "metadata": {},
   "outputs": [
    {
     "data": {
      "text/html": [
       "<div>\n",
       "<style scoped>\n",
       "    .dataframe tbody tr th:only-of-type {\n",
       "        vertical-align: middle;\n",
       "    }\n",
       "\n",
       "    .dataframe tbody tr th {\n",
       "        vertical-align: top;\n",
       "    }\n",
       "\n",
       "    .dataframe thead th {\n",
       "        text-align: right;\n",
       "    }\n",
       "</style>\n",
       "<table border=\"1\" class=\"dataframe\">\n",
       "  <thead>\n",
       "    <tr style=\"text-align: right;\">\n",
       "      <th></th>\n",
       "      <th>ID</th>\n",
       "      <th>label_pid</th>\n",
       "    </tr>\n",
       "  </thead>\n",
       "  <tbody>\n",
       "    <tr>\n",
       "      <th>0</th>\n",
       "      <td>B001</td>\n",
       "      <td>0</td>\n",
       "    </tr>\n",
       "    <tr>\n",
       "      <th>1</th>\n",
       "      <td>B006</td>\n",
       "      <td>1</td>\n",
       "    </tr>\n",
       "    <tr>\n",
       "      <th>2</th>\n",
       "      <td>B007</td>\n",
       "      <td>0</td>\n",
       "    </tr>\n",
       "    <tr>\n",
       "      <th>3</th>\n",
       "      <td>B011</td>\n",
       "      <td>0</td>\n",
       "    </tr>\n",
       "    <tr>\n",
       "      <th>4</th>\n",
       "      <td>B014</td>\n",
       "      <td>1</td>\n",
       "    </tr>\n",
       "    <tr>\n",
       "      <th>...</th>\n",
       "      <td>...</td>\n",
       "      <td>...</td>\n",
       "    </tr>\n",
       "    <tr>\n",
       "      <th>136</th>\n",
       "      <td>B201</td>\n",
       "      <td>0</td>\n",
       "    </tr>\n",
       "    <tr>\n",
       "      <th>137</th>\n",
       "      <td>B202</td>\n",
       "      <td>0</td>\n",
       "    </tr>\n",
       "    <tr>\n",
       "      <th>138</th>\n",
       "      <td>B203</td>\n",
       "      <td>0</td>\n",
       "    </tr>\n",
       "    <tr>\n",
       "      <th>139</th>\n",
       "      <td>B204</td>\n",
       "      <td>0</td>\n",
       "    </tr>\n",
       "    <tr>\n",
       "      <th>140</th>\n",
       "      <td>B205</td>\n",
       "      <td>0</td>\n",
       "    </tr>\n",
       "  </tbody>\n",
       "</table>\n",
       "<p>141 rows × 2 columns</p>\n",
       "</div>"
      ],
      "text/plain": [
       "       ID  label_pid\n",
       "0    B001          0\n",
       "1    B006          1\n",
       "2    B007          0\n",
       "3    B011          0\n",
       "4    B014          1\n",
       "..    ...        ...\n",
       "136  B201          0\n",
       "137  B202          0\n",
       "138  B203          0\n",
       "139  B204          0\n",
       "140  B205          0\n",
       "\n",
       "[141 rows x 2 columns]"
      ]
     },
     "execution_count": 11,
     "metadata": {},
     "output_type": "execute_result"
    }
   ],
   "source": [
    "dev_ev"
   ]
  },
  {
   "cell_type": "code",
   "execution_count": null,
   "metadata": {},
   "outputs": [],
   "source": []
  }
 ],
 "metadata": {
  "kernelspec": {
   "display_name": "gmskl",
   "language": "python",
   "name": ".venv"
  },
  "language_info": {
   "codemirror_mode": {
    "name": "ipython",
    "version": 3
   },
   "file_extension": ".py",
   "mimetype": "text/x-python",
   "name": "python",
   "nbconvert_exporter": "python",
   "pygments_lexer": "ipython3",
   "version": "3.6.8"
  },
  "orig_nbformat": 4
 },
 "nbformat": 4,
 "nbformat_minor": 2
}
